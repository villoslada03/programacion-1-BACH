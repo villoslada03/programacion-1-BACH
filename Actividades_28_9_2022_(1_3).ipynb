{
  "nbformat": 4,
  "nbformat_minor": 0,
  "metadata": {
    "colab": {
      "provenance": [],
      "authorship_tag": "ABX9TyNjkM/Cf2N9HClar4/6rDLD",
      "include_colab_link": true
    },
    "kernelspec": {
      "name": "python3",
      "display_name": "Python 3"
    },
    "language_info": {
      "name": "python"
    }
  },
  "cells": [
    {
      "cell_type": "markdown",
      "metadata": {
        "id": "view-in-github",
        "colab_type": "text"
      },
      "source": [
        "<a href=\"https://colab.research.google.com/github/villoslada03/programacion-1-BACH/blob/main/Actividades_28_9_2022_(1_3).ipynb\" target=\"_parent\"><img src=\"https://colab.research.google.com/assets/colab-badge.svg\" alt=\"Open In Colab\"/></a>"
      ]
    },
    {
      "cell_type": "code",
      "execution_count": null,
      "metadata": {
        "colab": {
          "base_uri": "https://localhost:8080/"
        },
        "id": "btpoeVzkHY2S",
        "outputId": "4770d304-0f0b-4f2a-a3df-8066723ef717"
      },
      "outputs": [
        {
          "output_type": "stream",
          "name": "stdout",
          "text": [
            "Introduzca el primer número: 65348\n",
            "Introduzca el segundo número: 6248\n",
            "El resultado de la suma es:  71596\n"
          ]
        }
      ],
      "source": [
        "#Actividad 1\n",
        "b=int(input(\"Introduzca el primer número: \"))\n",
        "a=int(input(\"Introduzca el segundo número: \"))\n",
        "print(\"El resultado de la suma es: \",a+b)"
      ]
    },
    {
      "cell_type": "code",
      "source": [
        "#Actividad 2\n",
        "#El usuario introduce un número\n",
        "#El penúltimo número\n",
        "d=int(input(\"Introduzca un número de más de dos cifras: \"))\n",
        "c=str(d)[-2]\n",
        "print(\"El número de la decena es: \",c)\n",
        "\n",
        "#El doble del número\n",
        "e=(d*2)\n",
        "print(\"El doble de su número es: \", e)"
      ],
      "metadata": {
        "colab": {
          "base_uri": "https://localhost:8080/"
        },
        "id": "CUeqNMwxQVDL",
        "outputId": "f5672511-f87b-4b42-b2a4-bafb49a8afb8"
      },
      "execution_count": null,
      "outputs": [
        {
          "output_type": "stream",
          "name": "stdout",
          "text": [
            "Introduzca un número de más de dos cifras: 456\n",
            "El número de la decena es:  5\n",
            "El doble de su número es:  912\n"
          ]
        }
      ]
    },
    {
      "cell_type": "code",
      "source": [
        "#Actividad 3 (Calcula cuántos años cumplirá en 2030)\n",
        "z=int(input(\"Introduzca su año de nacimiento: \"))\n",
        "print(\"En el año 2030 cumplirá:\",int(2030)-z,\"años. \")"
      ],
      "metadata": {
        "colab": {
          "base_uri": "https://localhost:8080/"
        },
        "id": "-BpWw0DzQnTh",
        "outputId": "da316059-9c14-43c7-e1ce-7a2fea93bd7e"
      },
      "execution_count": null,
      "outputs": [
        {
          "output_type": "stream",
          "name": "stdout",
          "text": [
            "Introduzca su año de nacimiento: 2006\n",
            "En el año 2030 cumplirá: 24 años. \n"
          ]
        }
      ]
    },
    {
      "cell_type": "code",
      "source": [
        "# Ampliación de la actividad 3 (introducir año de nacimiento y otro año para calcular la edad)\n",
        "a=int(input(\"Introduzca su año de nacimiento: \"))\n",
        "b=int(input(\"Introduzca el año en el que desee conocer su edad: \"))\n",
        "print(\"UD tendrá\"+\" \"+str(b-a),\"años en\"+\" \"+str(a)+\".\")"
      ],
      "metadata": {
        "colab": {
          "base_uri": "https://localhost:8080/"
        },
        "id": "efVGk2nfsUWn",
        "outputId": "900e4d0d-2cc7-4a5d-9a0a-2a6379dc6cd3"
      },
      "execution_count": null,
      "outputs": [
        {
          "output_type": "stream",
          "name": "stdout",
          "text": [
            "Introduzca su año de nacimiento: 2006\n",
            "Introduzca el año en el que desee conocer su edad: 2057\n",
            "UD tendrá 51 años en 2006.\n"
          ]
        }
      ]
    }
  ]
}